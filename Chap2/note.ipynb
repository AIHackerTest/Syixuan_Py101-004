{
 "cells": [
  {
   "cell_type": "markdown",
   "metadata": {},
   "source": [
    "### API ~ Application Programming Interface"
   ]
  },
  {
   "cell_type": "markdown",
   "metadata": {},
   "source": [
    "任务：\n",
    "\n",
    "- 选择何时的　API\n",
    "- 用 requests 模块向 API　发送请求、传递参数、接受返回的数据\n",
    "- 处理 API 数据，转换为 python 中合适的数据结构"
   ]
  },
  {
   "cell_type": "markdown",
   "metadata": {},
   "source": [
    "程序功能：\n",
    "\n",
    "- 输入城市名，返回该城市最新的天气数据；\n",
    "- 输入指令，获取帮助信息（一般使用 h 或 help）；\n",
    "- 输入指令，获取历史查询信息（一般使用 history）；\n",
    "- 输入指令，退出程序的交互（一般使用 quit 或 exit）；\n",
    "\n",
    "- 软件使用说明书 README.md：能令其他同学根据说明书运行程序，使用所有功能。\n",
    "- 个人教程：梳理相关技能点，教会六个月前的自己学编程。"
   ]
  },
  {
   "cell_type": "markdown",
   "metadata": {},
   "source": [
    "要点一：API 的选择和文档阅读"
   ]
  },
  {
   "cell_type": "markdown",
   "metadata": {},
   "source": [
    " 要点二：requests get 所要的文档，了解 GET 和 POST"
   ]
  },
  {
   "cell_type": "markdown",
   "metadata": {},
   "source": [
    "要点三：了解 JSON，使用 JSON 处理 API 返回的数据"
   ]
  },
  {
   "cell_type": "code",
   "execution_count": null,
   "metadata": {
    "collapsed": true
   },
   "outputs": [],
   "source": []
  }
 ],
 "metadata": {
  "kernelspec": {
   "display_name": "Python 3",
   "language": "python",
   "name": "python3"
  },
  "language_info": {
   "codemirror_mode": {
    "name": "ipython",
    "version": 3
   },
   "file_extension": ".py",
   "mimetype": "text/x-python",
   "name": "python",
   "nbconvert_exporter": "python",
   "pygments_lexer": "ipython3",
   "version": "3.6.1"
  }
 },
 "nbformat": 4,
 "nbformat_minor": 2
}
