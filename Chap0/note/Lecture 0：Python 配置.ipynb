{
 "cells": [
  {
   "cell_type": "markdown",
   "metadata": {},
   "source": [
    "170809    Lecture 0：Python 配置"
   ]
  },
  {
   "cell_type": "markdown",
   "metadata": {},
   "source": [
    ">这里是 Py3 self-teaching 第零课，写给一个月前的你。\n",
    "这节课你要了解 Python 的开发环境和完成一个小练习\n",
    "\n",
    "现在，你对 Python 编程一无所知，你的问题也不多：\n",
    "- 用什么软件写代码\n",
    "- 要看那个教程\n",
    "\n",
    "可以说，你真的是一无所知的小白了，你亦不知道用错了一个不适合的软件是给自己挖了大多的坑，所以，请你好好听我说，并努力模仿——允许你模仿之余随机发现与创新。"
   ]
  },
  {
   "cell_type": "markdown",
   "metadata": {},
   "source": [
    "第零课提要\n",
    "\n",
    "> - Python 环境配置建议\n",
    "- Python 环境配置注意"
   ]
  },
  {
   "cell_type": "markdown",
   "metadata": {
    "collapsed": true
   },
   "source": [
    "# Python 环境配置建议\n",
    "\n",
    "请遵照以下建议并尽快安装\n",
    "\n",
    "- Python 版本：Python 3.6.2\n",
    "- 终端：\n",
    "    - Mac OS : iTerm2\n",
    "    - Windows : cmder\n",
    "- 编辑器： Atom\n",
    "- 笔记工具：Jupyter Notebook\n",
    "- 版本管理工具：Git\n",
    "- 搜索工具：Google\n",
    "- 技术文档离线查阅工具：\n",
    "    - Mac OS : [Dash for macOS - API Documentation Browser, Snippet Manager](https://kapeli.com/dash)\n",
    "    - Windows : [Zeal - Offline Documentation Browser](https://zealdocs.org/)"
   ]
  },
  {
   "cell_type": "markdown",
   "metadata": {
    "collapsed": true
   },
   "source": [
    "# Python 环境配置注意\n",
    "\n",
    "上面的软件，第一步是下载，第二步安装，第三步使用。既然我分成了三步，就是希望你不要一股脑地给它们按起来，又，安装地时候可能就麻烦多多了。因为你在 Win 上吗？我也不知道。\n",
    "\n",
    "### 第一步 下载\n",
    "\n",
    "你所在地网域需要翻墙你才能在 Google 上搜索，所以，你要去先装一个【蓝灯】翻墙软件，然后在 Google 上依次下载上述软件包。\n",
    "\n",
    "### 第二步 安装\n",
    "\n",
    "在 Win 上按装软件是一件折磨人的事情！出现错误后坚持 Google 就好，相信我，没有 Google 不到的安装出错问题。下面是几个给你的建议~（要是你能早点知道就好了）\n",
    "\n",
    "**1、Python**\n",
    "\n",
    "一开始，你会有人给你比较 Python2 和 Python3 的优劣，你犹豫着安装了 Python2，因为它现在是工程界的主流。但我要提醒你的是，主流不是趋势！技术不会死去，现在依旧有鞋匠，但技术会老去。所以，不要去管 Python3 用不了 python2 的很多的第三方“功能”，你要相信趋势，相信未来，去安装 Python 3.6.2 版，地址：[https://www.python.org/](https://www.python.org/)\n",
    "\n",
    "**2、终端**\n",
    "\n",
    "此时你只知道要注重 Powershell，但作为编程小白的你压根不了解它的神奇功能。但你可以尝试着打开 Win 下的 Powershell，看看它的界面（此后要称 GUI）是如何丑陋！现在，我告诉你，有一款软件和它的功能一样，叫 cmder，而且颜值高了几个等级，所以，去看看吧。\n",
    "\n",
    "但安装了 cmder 后你依旧不知如何下手，没关系，你现在去阅读 Zed Shaw 的书[《The Command Line Crash Course》](http://libgen.io/book/index.php?md5=6F837503C2362C2A3135D294DB1102F2)好好读这本书，写个小总结吧。\n",
    "\n",
    "**3、Atom**\n",
    "\n",
    "在 Atom 上可以进行 Project 的管理，你先安装\n",
    "\n",
    "**4、Jupyter Notebook**\n",
    "\n",
    "你以后的所有笔记都要写在 Jupyter NoteBook。你一开始安装这个比较麻烦，请参考以下指南，遇到问题及时 Google\n",
    "\n",
    "安装地址：[Jupyter 安装](https://jupyter.org/install.html)\n",
    "\n",
    "运行地址：[Jupyter 运行](https://jupyter.readthedocs.io/en/latest/running.html#running)\n",
    "\n",
    "**5、Git**\n",
    "\n",
    "系统地理解和掌握 Git 有点麻烦，请参考[廖雪峰的 Git 教程](https://www.liaoxuefeng.com/)，写一篇教自己掌握 Git 的教程。\n",
    "\n",
    "### 第三步 使用\n",
    "\n",
    "自己在学习的时候去摸索，建议不要花太多时间刻意学习，碰到问题去看这些工具的二手知识——他人写的技术博客。"
   ]
  },
  {
   "cell_type": "markdown",
   "metadata": {},
   "source": [
    "---"
   ]
  },
  {
   "cell_type": "markdown",
   "metadata": {},
   "source": [
    "你以为到这里第 0 课就结束了吗？那么，你学到了什么呢？\n",
    "\n",
    "可以说，除了知道了几个软件的名称外，你啥都不知道，你甚至来不及自己动手去安装。我还没有给你将这些软件各自的功能和彼此间如何配合，那实际也没必要。所以，布置一个课后任务：\n",
    "\n",
    "去看一本书，叫[Learn Python the Hard Way](https://learnpythonthehardway.org/book/appendixa.html)，完成上面的前 40 个小练习！自己动手写代码！\n",
    "\n",
    "所谓，学习在线下，就是这样。\n",
    "\n",
    "下课！"
   ]
  }
 ],
 "metadata": {
  "kernelspec": {
   "display_name": "Python 3",
   "language": "python",
   "name": "python3"
  },
  "language_info": {
   "codemirror_mode": {
    "name": "ipython",
    "version": 3
   },
   "file_extension": ".py",
   "mimetype": "text/x-python",
   "name": "python",
   "nbconvert_exporter": "python",
   "pygments_lexer": "ipython3",
   "version": "3.6.2"
  }
 },
 "nbformat": 4,
 "nbformat_minor": 2
}
