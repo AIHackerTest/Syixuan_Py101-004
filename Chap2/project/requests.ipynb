{
 "cells": [
  {
   "cell_type": "code",
   "execution_count": 5,
   "metadata": {},
   "outputs": [
    {
     "name": "stdout",
     "output_type": "stream",
     "text": [
      "{\"results\":[{\"location\":{\"id\":\"WTUBM40RTTUB\",\"name\":\"扬州\",\"country\":\"CN\",\"path\":\"扬州,扬州,江苏,中国\",\"timezone\":\"Asia/Shanghai\",\"timezone_offset\":\"+08:00\"},\"now\":{\"text\":\"晴\",\"code\":\"1\",\"temperature\":\"31\"},\"last_update\":\"2017-08-24T00:00:00+08:00\"}]}\n"
     ]
    }
   ],
   "source": [
    "import requests\n",
    "import json\n",
    "result = requests.get('https://api.seniverse.com/v3/weather/now.json', params={\n",
    "        'key': 'z0i3iccaxcyyxpyn',\n",
    "        'location': '扬州',\n",
    "        'language': 'zh-Hans',\n",
    "        'unit': ''\n",
    "    }, timeout=20) \n",
    "print(result.text)"
   ]
  },
  {
   "cell_type": "code",
   "execution_count": 14,
   "metadata": {},
   "outputs": [
    {
     "name": "stdout",
     "output_type": "stream",
     "text": [
      "{\"results\":[{\"location\":{\"id\":\"WTUBM40RTTUB\",\"name\":\"扬州\",\"country\":\"CN\",\"path\":\"扬州,扬州,江苏,中国\",\"timezone\":\"Asia/Shanghai\",\"timezone_offset\":\"+08:00\"},\"now\":{\"text\":\"晴\",\"code\":\"1\",\"temperature\":\"86\"},\"last_update\":\"2017-08-24T00:40:00+08:00\"}]}\n",
      "------------------------------------------------------\n",
      "{'results': [{'location': {'id': 'WTUBM40RTTUB', 'name': '扬州', 'country': 'CN', 'path': '扬州,扬州,江苏,中国', 'timezone': 'Asia/Shanghai', 'timezone_offset': '+08:00'}, 'now': {'text': '晴', 'code': '1', 'temperature': '31'}, 'last_update': '2017-08-24T00:00:00+08:00'}]}\n"
     ]
    }
   ],
   "source": [
    "import requests\n",
    "# from utils.const_value import API, KEY, UNIT, LANGUAGE\n",
    "# from utils.helper import getLocation\n",
    "\n",
    "\n",
    "def fetchWeather():\n",
    "    result = requests.get('https://api.seniverse.com/v3/weather/now.json', params={\n",
    "        'key': 'z0i3iccaxcyyxpyn',\n",
    "        'location': '扬州',\n",
    "        'language': 'zh-Hans',\n",
    "        'unit': 'f'\n",
    "    }, timeout=1)\n",
    "    return result.text\n",
    "\n",
    "print(fetchWeather())\n",
    "\n",
    "print('------------------------------------------------------')\n",
    "\n",
    "weather_dict = json.loads(result.text) # 把text转换为 dict\n",
    "print(weather_dict)"
   ]
  },
  {
   "cell_type": "code",
   "execution_count": null,
   "metadata": {
    "collapsed": true
   },
   "outputs": [],
   "source": [
    "{'results': \n",
    "[{'location': {'id': 'WTUBM40RTTUB', \n",
    "                           'name': '扬州', \n",
    "                           'country': 'CN', \n",
    "                           'path': '扬州,扬州,江苏,中国', \n",
    "                           'timezone': 'Asia/Shanghai', \n",
    "                           'timezone_offset': '+08:00'}, \n",
    "              'now': {'text': '晴', \n",
    "                      'code': '1', \n",
    "                      'temperature': '31'}, \n",
    "'last_update': '2017-08-24T00:00:00+08:00'}\n",
    "]}"
   ]
  },
  {
   "cell_type": "code",
   "execution_count": 7,
   "metadata": {},
   "outputs": [
    {
     "name": "stdout",
     "output_type": "stream",
     "text": [
      "{'results': [{'location': {'id': 'WTSQQYHVQ973', 'name': '南京', 'country': 'CN', 'path': '南京,南京,江苏,中国', 'timezone': 'Asia/Shanghai', 'timezone_offset': '+08:00'}, 'now': {'text': '小雨', 'code': '13', 'temperature': '26'}, 'last_update': '2017-08-25T16:35:00+08:00'}]}\n"
     ]
    }
   ],
   "source": [
    "import requests\n",
    "result = requests.get('https://api.seniverse.com/v3/weather/now.json', params={\n",
    "            'key': 'aavbujnax07w0irk',\n",
    "            'location': '南京',\n",
    "            'language': 'zh-Hans',\n",
    "            'unit': ''\n",
    "        }, timeout=20) \n",
    "print(result.json())"
   ]
  },
  {
   "cell_type": "code",
   "execution_count": 9,
   "metadata": {},
   "outputs": [
    {
     "name": "stdout",
     "output_type": "stream",
     "text": [
      "{'results': [{'location': {'id': 'WTSQQYHVQ973', 'name': '南京', 'country': 'CN', 'path': '南京,南京,江苏,中国', 'timezone': 'Asia/Shanghai', 'timezone_offset': '+08:00'}, 'daily': [{'date': '2017-08-25', 'text_day': '中雨', 'code_day': '14', 'text_night': '雷阵雨', 'code_night': '11', 'high': '33', 'low': '25', 'precip': '', 'wind_direction': '北', 'wind_direction_degree': '0', 'wind_speed': '15', 'wind_scale': '3'}, {'date': '2017-08-26', 'text_day': '阴', 'code_day': '9', 'text_night': '多云', 'code_night': '4', 'high': '30', 'low': '25', 'precip': '', 'wind_direction': '东北', 'wind_direction_degree': '45', 'wind_speed': '20', 'wind_scale': '4'}, {'date': '2017-08-27', 'text_day': '多云', 'code_day': '4', 'text_night': '多云', 'code_night': '4', 'high': '33', 'low': '26', 'precip': '', 'wind_direction': '东南', 'wind_direction_degree': '135', 'wind_speed': '15', 'wind_scale': '3'}], 'last_update': '2017-08-25T11:00:00+08:00'}]}\n"
     ]
    }
   ],
   "source": [
    "import requests\n",
    "result = requests.get('https://api.seniverse.com/v3/weather/daily.json', params={\n",
    "            'key': 'aavbujnax07w0irk',\n",
    "            'location': '南京',\n",
    "            'language': 'zh-Hans',\n",
    "            'unit': ''\n",
    "        }, timeout=20) \n",
    "print(result.json())"
   ]
  },
  {
   "cell_type": "code",
   "execution_count": null,
   "metadata": {
    "collapsed": true
   },
   "outputs": [],
   "source": [
    "{'results': \n",
    " [{'location':\n",
    "   {'id': 'WTSQQYHVQ973', \n",
    "    'name': '南京', \n",
    "    'country': 'CN',\n",
    "    'path': '南京,南京,江苏,中国', \n",
    "    'timezone': 'Asia/Shanghai', \n",
    "    'timezone_offset': '+08:00'}, \n",
    "   'daily': [{'date': '2017-08-24', \n",
    "              'text_day': '多云', \n",
    "              'code_day': '4', \n",
    "              'text_night': '雷阵雨', \n",
    "              'code_night': '11', \n",
    "              'high': '35', \n",
    "              'low': '26', \n",
    "              'precip': '',\n",
    "              'wind_direction': '西南', \n",
    "              'wind_direction_degree': '225', \n",
    "              'wind_speed': '15', \n",
    "              'wind_scale': '3'}, \n",
    "             {'date': '2017-08-25', \n",
    "              'text_day': '大雨',\n",
    "              'code_day': '15', \n",
    "              'text_night': '雷阵雨', \n",
    "              'code_night': '11', \n",
    "              'high': '32', \n",
    "              'low': '25', \n",
    "              'precip': '',\n",
    "              'wind_direction': '无持续风向', \n",
    "              'wind_direction_degree': '', \n",
    "              'wind_speed': '15', \n",
    "              'wind_scale': '3'}, \n",
    "             {'date': '2017-08-26', \n",
    "              'text_day': '阴', \n",
    "              'code_day': '9', 'text_night': '多云', 'code_night': '4', 'high': '29', 'low': '25', 'precip': '', \n",
    "              'wind_direction': '东北', 'wind_direction_degree': '45', 'wind_speed': '20', 'wind_scale': '4'}\n",
    "            ], \n",
    "   'last_update': '2017-08-24T17:44:24+08:00'\n",
    "  }\n",
    " ]\n",
    "}"
   ]
  },
  {
   "cell_type": "code",
   "execution_count": null,
   "metadata": {
    "collapsed": true
   },
   "outputs": [],
   "source": [
    "{'results': [{'location': \n",
    "              {'id': 'WTSQQYHVQ973',\n",
    "               'name': '南京', \n",
    "               'country': 'CN',\n",
    "               'path': '南京,南京,江苏,中国', \n",
    "               'timezone': 'Asia/Shanghai',\n",
    "               'timezone_offset': '+08:00'}, \n",
    "              'now': \n",
    "              {'text': '多云', \n",
    "               'code': '4', \n",
    "               'temperature': '32'},\n",
    "              'last_update': '2017-08-24T17:40:00+08:00'\n",
    "             }\n",
    "            ]\n",
    "}"
   ]
  }
 ],
 "metadata": {
  "kernelspec": {
   "display_name": "Python 3",
   "language": "python",
   "name": "python3"
  },
  "language_info": {
   "codemirror_mode": {
    "name": "ipython",
    "version": 3
   },
   "file_extension": ".py",
   "mimetype": "text/x-python",
   "name": "python",
   "nbconvert_exporter": "python",
   "pygments_lexer": "ipython3",
   "version": "3.6.1"
  }
 },
 "nbformat": 4,
 "nbformat_minor": 2
}
