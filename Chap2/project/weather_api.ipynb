{
 "cells": [
  {
   "cell_type": "code",
   "execution_count": null,
   "metadata": {
    "collapsed": true
   },
   "outputs": [],
   "source": [
    "import requests\n",
    "import json\n",
    "\n",
    "history_list = []\n",
    "\n",
    "def fetch_weather(location):\n",
    "    result = requests.get('https://api.seniverse.com/v3/weather/now.json', params={\n",
    "        'key': 'z0i3iccaxcyyxpyn',\n",
    "        'location': location,\n",
    "        'language': 'zh-Hans',\n",
    "        'unit': 'c'\n",
    "    }, timeout = 20)\n",
    "    \n",
    "    return result\n",
    "\n",
    "def show_weather(jd):\n",
    "    temperature = jd['results'][0]['now']['temperature']\n",
    "    text = jd['results'][0]['now']['text']\n",
    "    code = jd['results'][0]['now']['code']\n",
    "    weather = f'\\n{order} 温度：{temperature}\\n天气状况：{text}\\n天气指数：{code}\\n'\n",
    "    \n",
    "    return weather\n",
    "\n",
    "def help():\n",
    "    print(\n",
    "        '''\n",
    "        输入城市名，查询该城市的天气；\n",
    "        输入 help，获取帮助文档；\n",
    "        输入 history,获取查询历史；\n",
    "        输入 quit，退出天气查询系统。\n",
    "        '''\n",
    "        )\n",
    "        \n",
    "while True:\n",
    "    order = input('请输入你需要查询的城市名：')\n",
    "    try:\n",
    "        result = fetch_weather(order)\n",
    "        jd = json.loads(result.text)\n",
    "        weather = show_weather(jd)\n",
    "        print(weather)\n",
    "        history_list.append(weather)\n",
    "        \n",
    "    except KeyError:\n",
    "        if order in ['h', 'help']:\n",
    "            help()\n",
    "\n",
    "        elif order in ['history']:\n",
    "            for info in history_list:\n",
    "                print(info)\n",
    "\n",
    "        elif order in ['quit', 'q']:\n",
    "            print(\"退出查询系统！\")\n",
    "            break\n",
    "        \n",
    "        else:\n",
    "            print('没有该城市信息，请输入help获取帮助！')"
   ]
  },
  {
   "cell_type": "code",
   "execution_count": null,
   "metadata": {
    "collapsed": true
   },
   "outputs": [],
   "source": []
  }
 ],
 "metadata": {
  "kernelspec": {
   "display_name": "Python 3",
   "language": "python",
   "name": "python3"
  },
  "language_info": {
   "codemirror_mode": {
    "name": "ipython",
    "version": 3
   },
   "file_extension": ".py",
   "mimetype": "text/x-python",
   "name": "python",
   "nbconvert_exporter": "python",
   "pygments_lexer": "ipython3",
   "version": "3.6.1"
  }
 },
 "nbformat": 4,
 "nbformat_minor": 2
}
