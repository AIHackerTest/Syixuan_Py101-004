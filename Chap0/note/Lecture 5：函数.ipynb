{
 "cells": [
  {
   "cell_type": "markdown",
   "metadata": {},
   "source": [
    "170811 Lecture 5：函数\n",
    "\n",
    "> 这里是 Py3 self-teaching 第五课，讲解函数\n",
    "\n",
    "- 定义函数\n",
    "- 使用函数\n",
    "- 函数关键"
   ]
  },
  {
   "cell_type": "markdown",
   "metadata": {},
   "source": [
    "## 定义函数\n",
    "\n",
    "函数有以下特征：\n",
    "\n",
    "- 关键词 def\n",
    "- def 后是函数名称，括号中是函数的参数，用，隔开，括号后要有：\n",
    "- return 返回特定的值，如果省略，返回 None"
   ]
  },
  {
   "cell_type": "markdown",
   "metadata": {},
   "source": [
    "## 使用函数\n",
    "\n",
    "将函数的参数换成特定的值即可"
   ]
  },
  {
   "cell_type": "markdown",
   "metadata": {},
   "source": [
    "## 函数关键\n",
    "\n",
    "\n",
    "关键是理清逻辑和调用关系，所以下节课开始 Flow Control。记得回顾数据类型。\n",
    "\n",
    "下课！"
   ]
  }
 ],
 "metadata": {
  "kernelspec": {
   "display_name": "Python 3",
   "language": "python",
   "name": "python3"
  },
  "language_info": {
   "codemirror_mode": {
    "name": "ipython",
    "version": 3
   },
   "file_extension": ".py",
   "mimetype": "text/x-python",
   "name": "python",
   "nbconvert_exporter": "python",
   "pygments_lexer": "ipython3",
   "version": "3.6.2"
  }
 },
 "nbformat": 4,
 "nbformat_minor": 2
}
