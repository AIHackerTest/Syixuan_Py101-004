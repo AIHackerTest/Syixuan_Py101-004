{
 "cells": [
  {
   "cell_type": "markdown",
   "metadata": {},
   "source": [
    "170811 Lecture 6：控制流\n",
    "\n",
    "> 这里是 Py3 self-teaching 第六课，讲解编程控制流\n",
    "\n",
    "- 条件 if\n",
    "- 循环 loop（ for & while）"
   ]
  },
  {
   "cell_type": "markdown",
   "metadata": {},
   "source": [
    "## 条件 if\n",
    "\n",
    "注意 if \\ elif \\ else 的执行的顺序"
   ]
  },
  {
   "cell_type": "code",
   "execution_count": 4,
   "metadata": {},
   "outputs": [
    {
     "name": "stdout",
     "output_type": "stream",
     "text": [
      "-2 is negative\n"
     ]
    }
   ],
   "source": [
    "x = -2\n",
    "if x> 0:\n",
    "    print(\"x is positive\")\n",
    "elif x == 0:\n",
    "    print(\"x is zero\")\n",
    "else:\n",
    "    print((\"%s is negative\") % x)"
   ]
  },
  {
   "cell_type": "markdown",
   "metadata": {},
   "source": [
    "## 循环 loop\n",
    "\n",
    "将一段代码重复执行多次"
   ]
  },
  {
   "cell_type": "markdown",
   "metadata": {},
   "source": [
    "### while"
   ]
  },
  {
   "cell_type": "code",
   "execution_count": 5,
   "metadata": {},
   "outputs": [
    {
     "name": "stdout",
     "output_type": "stream",
     "text": [
      "49995000\n"
     ]
    }
   ],
   "source": [
    "i = 0\n",
    "total = 0\n",
    "while i < 10000:\n",
    "    total += i\n",
    "    i += 1\n",
    "print(total)"
   ]
  },
  {
   "cell_type": "markdown",
   "metadata": {},
   "source": [
    "空容器会被当做 False，因此可以用 while 读取容器中的所有元素\n",
    "\n",
    "循环每次从 plays 中弹出一个元素，直到其空"
   ]
  },
  {
   "cell_type": "code",
   "execution_count": 6,
   "metadata": {},
   "outputs": [
    {
     "name": "stdout",
     "output_type": "stream",
     "text": [
      "Perform Hamlet\n",
      "Perform King Lear\n",
      "Perform Macbeth\n"
     ]
    }
   ],
   "source": [
    "plays = set(['Hamlet', 'Macbeth', 'King Lear'])\n",
    "while plays:\n",
    "    play = plays.pop()\n",
    "    print('Perform', play)"
   ]
  },
  {
   "cell_type": "markdown",
   "metadata": {},
   "source": [
    "### for "
   ]
  },
  {
   "cell_type": "code",
   "execution_count": 10,
   "metadata": {},
   "outputs": [
    {
     "name": "stdout",
     "output_type": "stream",
     "text": [
      "45\n"
     ]
    }
   ],
   "source": [
    "total = 0\n",
    "for i in range(10):\n",
    "    total += i\n",
    "print(total)"
   ]
  },
  {
   "cell_type": "markdown",
   "metadata": {},
   "source": [
    "### continue 语句\n",
    "\n",
    "遇到 continue 时，程序返回循环的最开始重新执行"
   ]
  },
  {
   "cell_type": "code",
   "execution_count": 16,
   "metadata": {},
   "outputs": [
    {
     "name": "stdout",
     "output_type": "stream",
     "text": [
      "3\n",
      "2\n",
      "1\n",
      "4\n"
     ]
    }
   ],
   "source": [
    "values = [7, 6, 4, 2, 8 ,21]\n",
    "for i in values:\n",
    "    if i % 2 != 0:\n",
    "        continue\n",
    "    print(int(i/2))"
   ]
  },
  {
   "cell_type": "code",
   "execution_count": 20,
   "metadata": {},
   "outputs": [
    {
     "name": "stdout",
     "output_type": "stream",
     "text": [
      "3.5\n",
      "10.5\n"
     ]
    }
   ],
   "source": [
    "values = [7, 6, 4, 2, 8 ,21]\n",
    "for i in values:\n",
    "    if i % 2 != 0:\n",
    "        print(i/2)"
   ]
  },
  {
   "cell_type": "markdown",
   "metadata": {},
   "source": [
    "### break 语句\n",
    "\n",
    "遇到 break 语句时，程序会跳出循环，不管条件是否满足"
   ]
  },
  {
   "cell_type": "code",
   "execution_count": 21,
   "metadata": {},
   "outputs": [
    {
     "name": "stdout",
     "output_type": "stream",
     "text": [
      "start\n",
      "process\n",
      "process\n",
      "process\n"
     ]
    }
   ],
   "source": [
    "command_list = ['start',\n",
    "               'process',\n",
    "               'process',\n",
    "               'process',\n",
    "               'stop',\n",
    "               'start',\n",
    "               'process',\n",
    "               'stop']\n",
    "while command_list:\n",
    "    command = command_list.pop(0)\n",
    "    if command == 'stop':\n",
    "        break\n",
    "    print(command)"
   ]
  },
  {
   "cell_type": "code",
   "execution_count": 22,
   "metadata": {},
   "outputs": [
    {
     "name": "stdout",
     "output_type": "stream",
     "text": [
      "start\n",
      "process\n",
      "process\n",
      "process\n",
      "stop\n",
      "start\n",
      "process\n",
      "stop\n"
     ]
    }
   ],
   "source": [
    "command_list = ['start',\n",
    "               'process',\n",
    "               'process',\n",
    "               'process',\n",
    "               'stop',\n",
    "               'start',\n",
    "               'process',\n",
    "               'stop']\n",
    "while command_list:\n",
    "    command = command_list.pop(0)\n",
    "    print(command)"
   ]
  },
  {
   "cell_type": "markdown",
   "metadata": {},
   "source": [
    "### else 语句\n",
    "\n",
    "与 if 语句一样，while 和 for 循环后面也可以跟 else，不过不要和 break 一起连用\n",
    "\n",
    "- 当循环正常结束时，循环条件不满足，else被执行\n",
    "- 当循环被 break 结束时，循环条件仍然满足，else 不执行"
   ]
  },
  {
   "cell_type": "code",
   "execution_count": 23,
   "metadata": {},
   "outputs": [
    {
     "name": "stdout",
     "output_type": "stream",
     "text": [
      "Found:  7\n"
     ]
    }
   ],
   "source": [
    "values = [7, 6, 4, 2, 8 ,21]\n",
    "for i in values:\n",
    "    if i <= 10:\n",
    "        print ('Found: ', i)\n",
    "        break\n",
    "else:\n",
    "    print(\"All values more than 10\")"
   ]
  },
  {
   "cell_type": "code",
   "execution_count": 24,
   "metadata": {},
   "outputs": [
    {
     "name": "stdout",
     "output_type": "stream",
     "text": [
      "All values more than 10\n"
     ]
    }
   ],
   "source": [
    "values = [12 ,21]\n",
    "for i in values:\n",
    "    if i <= 10:\n",
    "        print ('Found: ', i)\n",
    "        break\n",
    "else:\n",
    "    print(\"All values more than 10\")"
   ]
  },
  {
   "cell_type": "markdown",
   "metadata": {},
   "source": [
    "### 下课！\n",
    "\n",
    "有空用笔画画流程图"
   ]
  }
 ],
 "metadata": {
  "kernelspec": {
   "display_name": "Python 3",
   "language": "python",
   "name": "python3"
  },
  "language_info": {
   "codemirror_mode": {
    "name": "ipython",
    "version": 3
   },
   "file_extension": ".py",
   "mimetype": "text/x-python",
   "name": "python",
   "nbconvert_exporter": "python",
   "pygments_lexer": "ipython3",
   "version": "3.6.2"
  }
 },
 "nbformat": 4,
 "nbformat_minor": 2
}
